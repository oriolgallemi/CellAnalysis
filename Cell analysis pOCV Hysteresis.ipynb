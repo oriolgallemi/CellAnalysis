{
  "nbformat": 4,
  "nbformat_minor": 5,
  "metadata": {
    "selected_hardware_size": "small",
    "noteable": {
      "last_transaction_id": "8e849bf9-9117-44bd-a9aa-52d6636b8b64"
    }
  },
  "cells": [
    {
      "id": "a504626e-3399-4334-a1b6-63b816e1583d",
      "cell_type": "code",
      "metadata": {
        "jupyter": {
          "outputs_hidden": false,
          "source_hidden": false
        },
        "noteable": {
          "cell_type": "code",
          "output_collection_id": "9339202c-4aa4-4544-b6d8-53703418194f"
        },
        "ExecuteTime": {
          "end_time": "2023-06-06T10:35:10.112660+00:00",
          "start_time": "2023-06-06T10:34:57.125589+00:00"
        }
      },
      "execution_count": null,
      "source": "# Import necessary libraries\nimport pandas as pd\nimport numpy as np\nimport matplotlib.pyplot as plt\nfrom scipy.signal import savgol_filter\nfrom sklearn.preprocessing import PolynomialFeatures\nfrom sklearn.linear_model import LinearRegression\nfrom sklearn.pipeline import make_pipeline\nfrom sklearn.metrics import r2_score\n\n\n# Load the dataset psOCVclean2.csv\n%ntbl pull datasets \"LargeDataset2/psOCVclean2.csv\"\ndf = pd.read_csv( \"../datasets/LargeDataset2/psOCVclean2.csv\", sep=';', quotechar='\"')\n\n# Remove quotes from column headers\ndf.columns = df.columns.str.replace('\"', '')\n\n# Display the column headers\ncolumn_headers = df.columns\nprint(column_headers)",
      "outputs": []
    },
    {
      "id": "848b5809-7c78-4cae-b28d-1e152de19cc9",
      "cell_type": "code",
      "metadata": {
        "jupyter": {
          "outputs_hidden": false,
          "source_hidden": false
        },
        "noteable": {
          "cell_type": "code",
          "output_collection_id": "9a3a2fae-ec71-4feb-a2da-36cd73a8131c"
        },
        "ExecuteTime": {
          "end_time": "2023-06-06T10:35:11.924529+00:00",
          "start_time": "2023-06-06T10:35:10.127928+00:00"
        }
      },
      "execution_count": null,
      "source": "plt.plot(df['Current A'])\nplt.xlabel(\"Time\")\nplt.ylabel(\"Current (A)\")\nplt.title(\"Current vs. Time\")\nplt.show()\n\nplt.plot(df['Voltage V'])\nplt.xlabel(\"Time\")\nplt.ylabel(\"Voltage (V)\")\nplt.title(\"Voltage vs. Time\")\nplt.show()\n\nplt.plot(df['Step'])\nplt.xlabel(\"Time\")\nplt.ylabel(\"Step#\")\nplt.title(\"Step vs. Time\")\nplt.show()",
      "outputs": []
    },
    {
      "id": "a26c8453-099a-4526-b4c2-92c45f5dcb54",
      "cell_type": "code",
      "metadata": {
        "jupyter": {
          "outputs_hidden": false,
          "source_hidden": false
        },
        "noteable": {
          "cell_type": "code",
          "output_collection_id": "d19e2bfe-fcd8-4456-b99b-a1057d6b9535"
        },
        "ExecuteTime": {
          "end_time": "2023-06-06T10:35:13.049431+00:00",
          "start_time": "2023-06-06T10:35:12.425076+00:00"
        }
      },
      "execution_count": null,
      "source": "# Separate charge and discharge cycles\ncharge = df[df['Step'] == 10]\ndischarge = df[df['Step'] == 14]\n\n# Step 1: Transform the capacity to absolute values, having the 0 value at its lowest, and the maximum at the maximum voltage.\n# Offset the negative capacity in the 'discharge' dataframe by its absolute minimum, forcing the minimum to be zero.\ndischarge['Amp-Hours AH'] = discharge['Amp-Hours AH'] - discharge['Amp-Hours AH'].min()\ncharge['Amp-Hours AH'] = charge['Amp-Hours AH'] - charge['Amp-Hours AH'].min()\n\n# Step 2: Sort the 'charge' and 'discharge' dataframes from the lowest voltage to the higherst for a proper interpolation, functions with monotonically increasing intervals of X\ncharge = charge.sort_values(by='Amp-Hours AH', ascending=True)\ndischarge = discharge.sort_values(by='Amp-Hours AH', ascending=True)\n\n# Reset index for both dataframes\ncharge.reset_index(drop=True, inplace=True)\ndischarge.reset_index(drop=True, inplace=True)\n\n\n# Display the first few rows of the charge and discharge dataframes\ncharge.head(), discharge.tail()",
      "outputs": []
    },
    {
      "id": "310dd39a-c94b-4b38-903f-7b883da1ddcc",
      "cell_type": "code",
      "metadata": {
        "jupyter": {
          "outputs_hidden": false,
          "source_hidden": false
        },
        "noteable": {
          "cell_type": "code",
          "output_collection_id": "0020b022-1742-47eb-87be-01ca56ea1990"
        },
        "ExecuteTime": {
          "end_time": "2023-06-06T10:35:13.217256+00:00",
          "start_time": "2023-06-06T10:35:13.059907+00:00"
        }
      },
      "execution_count": null,
      "source": "# Check the lengths of the charge and discharge dataframes\nlen(charge), len(discharge)",
      "outputs": []
    },
    {
      "id": "65b36c42-a19b-461c-a221-544d855ca66b",
      "cell_type": "code",
      "metadata": {
        "jupyter": {
          "outputs_hidden": false,
          "source_hidden": false
        },
        "noteable": {
          "cell_type": "code",
          "output_collection_id": "f7677eae-6ed5-46c7-8dbc-b6fc6a7971f5"
        },
        "ExecuteTime": {
          "end_time": "2023-06-06T10:35:13.554013+00:00",
          "start_time": "2023-06-06T10:35:13.225328+00:00"
        }
      },
      "execution_count": null,
      "source": "# Interpolate the data to make them align\ncommon_capacity = np.linspace(start=0, stop=max(max(charge['Amp-Hours AH']), max(discharge['Amp-Hours AH'])), num=max(len(charge), len(discharge)))\ncharge_interpolated = np.interp(common_capacity, charge['Amp-Hours AH'], charge['Voltage V'])\ndischarge_interpolated = np.interp(common_capacity, discharge['Amp-Hours AH'], discharge['Voltage V'])\ncommonCap = pd.DataFrame(common_capacity, columns = ['Amp-Hours AH'])\n\n# Check the lengths of the charge and discharge dataframes\nlen(charge_interpolated), len(discharge_interpolated)\n# Display the first few values of the interpolated data\ncharge_interpolated[:5], discharge_interpolated[:5]\n\nvoltageGap = pd.DataFrame(charge_interpolated-discharge_interpolated, columns = ['Voltage V'])\n# Using DataFrame.merge() to add columns\nEnergyGap = voltageGap.merge(commonCap, left_index=True, right_index=True)\nprint('\\nResult Index Merge:\\n', EnergyGap.head())",
      "outputs": []
    },
    {
      "id": "acc75f88-3c2d-44ad-986c-f8814d6f9251",
      "cell_type": "code",
      "metadata": {
        "jupyter": {
          "outputs_hidden": false,
          "source_hidden": false
        },
        "noteable": {
          "cell_type": "code",
          "output_collection_id": "c3dd6288-dffd-4ba5-a88b-28fdc1b82947"
        },
        "ExecuteTime": {
          "end_time": "2023-06-06T10:35:14.314810+00:00",
          "start_time": "2023-06-06T10:35:13.562985+00:00"
        }
      },
      "execution_count": null,
      "source": "# Plot Voltage gap vs common capacity\nplt.figure(figsize=(10,6))\nplt.plot(common_capacity, charge_interpolated)\nplt.plot(common_capacity, discharge_interpolated)\nplt.xlabel('Capacity (Amp-Hours)')\nplt.ylabel('Voltages (V)')\nplt.title('Voltage gap vs Capacity')\nplt.grid(True)\nplt.show()",
      "outputs": []
    },
    {
      "id": "b1484a02-3475-4f6f-b721-1b4c48ff4b0c",
      "cell_type": "code",
      "metadata": {
        "jupyter": {
          "outputs_hidden": false,
          "source_hidden": false
        },
        "noteable": {
          "cell_type": "code",
          "output_collection_id": "f2bd870f-cc08-4fc2-9b1d-88516bca6ce1"
        },
        "ExecuteTime": {
          "end_time": "2023-06-06T10:35:24.420572+00:00",
          "start_time": "2023-06-06T10:35:14.726829+00:00"
        }
      },
      "execution_count": null,
      "source": "# Smoothen curves for display\nwindow_size = 9911  # Adjust the window size as needed\npoly_order = 3    # Adjust the polynomial order as needed\n#delta=17,\n\n# Apply the Savitzky-Golay filter\nCHG = savgol_filter(charge_interpolated, window_size, poly_order, deriv=0, mode = 'mirror')\nDCH = savgol_filter(discharge_interpolated, window_size, poly_order, deriv=0, mode = 'mirror')",
      "outputs": []
    },
    {
      "id": "d2cb603f-dc93-46c6-9e3a-438de685b382",
      "cell_type": "code",
      "metadata": {
        "jupyter": {
          "outputs_hidden": false,
          "source_hidden": false
        },
        "noteable": {
          "cell_type": "code",
          "output_collection_id": "b254e9fd-3afe-4366-8605-705c1e1b4ee9"
        },
        "ExecuteTime": {
          "end_time": "2023-06-06T10:35:25.073548+00:00",
          "start_time": "2023-06-06T10:35:24.430099+00:00"
        }
      },
      "execution_count": null,
      "source": "# Plot Voltage gap vs common capacity\nplt.figure(figsize=(10,6))\n#plt.plot(common_capacity, charge_interpolated, label='charge raw')\nplt.plot(common_capacity, CHG, label='CHG')\n#plt.plot(common_capacity, discharge_interpolated, label='discharge raw')\nplt.plot(common_capacity, DCH, label='DCH')\nplt.xlabel('Capacity (Amp-Hours)')\nplt.ylabel('Voltages (V)')\nplt.title('Voltage gap vs Capacity')\nplt.grid(True)\nplt.show()",
      "outputs": []
    },
    {
      "id": "2bcc16bf-c3e0-45f6-9c58-0bbc278f38f4",
      "cell_type": "code",
      "metadata": {
        "jupyter": {
          "outputs_hidden": false,
          "source_hidden": false
        },
        "noteable": {
          "cell_type": "code",
          "output_collection_id": "2c68d125-216d-4500-b557-2347eacd44c1"
        },
        "ExecuteTime": {
          "end_time": "2023-06-06T10:35:25.691376+00:00",
          "start_time": "2023-06-06T10:35:25.526716+00:00"
        },
        "scrolled": false
      },
      "execution_count": null,
      "source": "# Compute the hysteresis\nhysteresis = np.trapz(np.abs(CHG-DCH), common_capacity)\n\n# Display the hysteresis\nhysteresis",
      "outputs": []
    },
    {
      "id": "8119498c-50da-4c3e-9fb9-8d06067c4ce9",
      "cell_type": "code",
      "metadata": {
        "jupyter": {
          "outputs_hidden": false,
          "source_hidden": false
        },
        "noteable": {
          "cell_type": "code",
          "output_collection_id": "605adfc5-cdcc-4854-87d4-d3f1fafa6660"
        },
        "ExecuteTime": {
          "end_time": "2023-06-06T10:35:25.968905+00:00",
          "start_time": "2023-06-06T10:35:25.726905+00:00"
        }
      },
      "execution_count": null,
      "source": "# Computing approach to dV, dQ behaviors\ndVCdQ = np.gradient(CHG, common_capacity)\ndVDdQ = np.gradient(DCH, common_capacity)\ndQdVC = np.gradient(common_capacity, CHG)\ndQdVD = np.gradient(common_capacity, DCH)\ndVGdQ = np.gradient((CHG-DCH), common_capacity)",
      "outputs": []
    },
    {
      "id": "30117867-afb5-41fe-a9b3-c39bff3ebe89",
      "cell_type": "code",
      "metadata": {
        "jupyter": {
          "outputs_hidden": false,
          "source_hidden": false
        },
        "noteable": {
          "cell_type": "code",
          "output_collection_id": "44a2a007-f01e-4af7-8521-05b11ae5ed00"
        },
        "ExecuteTime": {
          "end_time": "2023-06-06T10:35:49.741875+00:00",
          "start_time": "2023-06-06T10:35:26.029085+00:00"
        }
      },
      "execution_count": null,
      "source": "# Apply the Savitzky-Golay filter\nsdVCdQ = savgol_filter(dVCdQ, window_size, poly_order, deriv=0, mode = 'mirror')\nsdVDdQ = savgol_filter(dVDdQ, window_size, poly_order, deriv=0, mode = 'mirror')\n#sdVCdQ = savgol_filter(charge_interpolated, window_size, poly_order, deriv=1, delta=17.0 mode = 'mirror')\nsdQdVC = savgol_filter(dQdVC, window_size, poly_order, deriv=0, mode = 'mirror')\nsdQdVD = savgol_filter(dQdVD, window_size, poly_order, deriv=0, mode = 'mirror')\nsdVGdQ = savgol_filter(dVGdQ, window_size, poly_order, deriv=0, mode = 'mirror')",
      "outputs": []
    },
    {
      "id": "341c3b42-df12-427d-95ce-c556f367408a",
      "cell_type": "code",
      "metadata": {
        "jupyter": {
          "outputs_hidden": false,
          "source_hidden": false
        },
        "noteable": {
          "cell_type": "code",
          "output_collection_id": "9ba88c7c-4dc2-482c-ba98-cbc182cf5919"
        },
        "ExecuteTime": {
          "end_time": "2023-06-06T10:35:50.344453+00:00",
          "start_time": "2023-06-06T10:35:49.749847+00:00"
        }
      },
      "execution_count": null,
      "source": "plt.figure(figsize=(10,6))\n#create a line plot with common_capacity on the X-axis and dV/dQ on the Y-axis.\nplt.plot(common_capacity, sdVCdQ, alpha=0.5, label='charge')\nplt.plot(common_capacity, sdVDdQ, alpha=0.5, label='discharge')\nax = plt.gca()\n#ax.set_xlim([xmin, xmax])\nax.set_ylim([-.02, .1])\nplt.xlabel('common_capacity')\nplt.ylabel('dV/dQ')\nplt.title('dV/dQ vs common_capacity')\nplt.show()",
      "outputs": []
    },
    {
      "id": "99eddfd9-4345-4e83-bf27-7c0283c5c509",
      "cell_type": "code",
      "metadata": {
        "jupyter": {
          "outputs_hidden": false,
          "source_hidden": false
        },
        "noteable": {
          "cell_type": "code",
          "output_collection_id": "4ec7ca7a-e9f7-4f6f-acd9-b443b444d9c0"
        },
        "ExecuteTime": {
          "end_time": "2023-06-06T10:35:52.440290+00:00",
          "start_time": "2023-06-06T10:35:50.626897+00:00"
        }
      },
      "execution_count": null,
      "source": "plt.figure(figsize=(10,6))\nplt.plot(charge_interpolated, sdQdVC, alpha=0.5, label='charge')\nplt.plot(discharge_interpolated, sdQdVD, alpha=0.5, label='discharge')\nax = plt.gca()\n#ax.set_xlim([xmin, xmax])\nax.set_ylim([-50, 250])\nplt.xlabel('charge_interpolated / discharge_interpolated')\nplt.ylabel('dQ/dV')\nplt.title('dQ/dV for charge and discharge')\nplt.legend()\nplt.show()",
      "outputs": []
    },
    {
      "id": "d271c09d-3f16-43e1-b687-7347543ec88c",
      "cell_type": "code",
      "metadata": {
        "jupyter": {
          "outputs_hidden": false,
          "source_hidden": false
        },
        "noteable": {
          "cell_type": "code",
          "output_collection_id": "04e96904-72c2-40c1-b628-7edf9eae9d1b"
        },
        "ExecuteTime": {
          "end_time": "2023-06-06T10:35:58.242447+00:00",
          "start_time": "2023-06-06T10:35:52.657173+00:00"
        }
      },
      "execution_count": null,
      "source": "# This is a mere exercise as this curve sums up all the phenomena both during charge and discharge, so it may induce to assume too many transformations which in fact, are not, but half of it\n\nsVGAP = savgol_filter(EnergyGap['Voltage V'], window_size, poly_order, deriv=0, mode = 'mirror')\n# Plot Voltage gap vs common capacity\nplt.figure(figsize=(10,6))\nplt.plot(EnergyGap['Amp-Hours AH'], sVGAP)\nplt.xlabel('Capacity (Amp-Hours)')\nplt.ylabel('Voltage gap (V)')\nplt.title('Voltage gap C20-C20 vs Capacity')\nplt.grid(True)\nplt.show()\n\nplt.figure(figsize=(10,6))\n#create a line plot with common_capacity on the X-axis and dV/dQ on the Y-axis.\nplt.plot(common_capacity, sdVGdQ, label='Vgap')\nax = plt.gca()\n#ax.set_xlim([xmin, xmax])\nax.set_ylim([-.015, .005])\nplt.xlabel('common_capacity')\nplt.ylabel('dVG/dQ')\nplt.title('dVGap/dQ vs common_capacity')\nplt.show()",
      "outputs": []
    },
    {
      "id": "52e403f7-1875-4e43-bfbf-91084871fa0a",
      "cell_type": "code",
      "metadata": {
        "jupyter": {
          "outputs_hidden": false,
          "source_hidden": false
        },
        "noteable": {
          "cell_type": "code",
          "output_collection_id": "eb6aae73-356d-46ef-8721-8cbead6e0f73"
        },
        "ExecuteTime": {
          "end_time": "2023-06-06T10:35:59.640779+00:00",
          "start_time": "2023-06-06T10:35:58.974546+00:00"
        }
      },
      "execution_count": null,
      "source": "# Calculate the average between CHG and DCH numpy arrays\npOCV = (CHG + DCH) / 2\n\n# Plot voltages vs common capacity\nplt.figure(figsize=(10,6))\nplt.plot(common_capacity, charge_interpolated, label='charge')\nplt.plot(common_capacity, pOCV, label='pOCV', color='green')\nplt.plot(common_capacity, discharge_interpolated, label='discharge')\n\nplt.xlabel('Capacity (Amp-Hours)')\nplt.ylabel('Voltages (V)')\nplt.title('Voltage gap vs Capacity')\nplt.grid(True)\nplt.show()\n",
      "outputs": []
    },
    {
      "id": "3ea96c9a-81cc-4c86-bb70-81481ccbb81f",
      "cell_type": "code",
      "metadata": {
        "jupyter": {
          "outputs_hidden": false,
          "source_hidden": false
        },
        "noteable": {
          "cell_type": "code",
          "output_collection_id": "3357db12-9d7d-42ea-b938-6577b69ac152"
        },
        "ExecuteTime": {
          "end_time": "2023-06-06T10:40:07.824134+00:00",
          "start_time": "2023-06-06T10:40:02.371741+00:00"
        }
      },
      "execution_count": null,
      "source": "# Computing approach to dV, dQ \ndOCVdQ = np.gradient(pOCV, common_capacity)\n# Apply the Savitzky-Golay filter\nsdOCVdQ = savgol_filter(dOCVdQ, window_size, poly_order, deriv=0, mode = 'mirror')\n\n\nfig, ax1 = plt.subplots()\n\nax2 = ax1.twinx()\nax1.plot(common_capacity, pOCV, 'g-')\nax2.plot(common_capacity, dOCVdQ, 'b-')\n\nax1.set_xlabel('Capacity Ah')\nax1.set_ylabel('Voltage V', color='g')\nax2.set_ylabel('dOCV/dQ', color='b')\nax2.set_ylim(bottom=0, top=0.05)\n\nplt.show()",
      "outputs": []
    },
    {
      "id": "85c193d4-6274-48b2-b8e4-59b6ef19b2f5",
      "cell_type": "code",
      "metadata": {
        "jupyter": {
          "outputs_hidden": false,
          "source_hidden": false
        },
        "noteable": {
          "cell_type": "code",
          "output_collection_id": "a6bcb5a3-54d7-4a67-b276-36d338ac4314"
        },
        "ExecuteTime": {
          "end_time": "2023-06-06T10:44:18.564339+00:00",
          "start_time": "2023-06-06T10:44:14.927646+00:00"
        }
      },
      "execution_count": null,
      "source": "# Define the degree of the polynomial regression model\ndegree = 7\n# Create a pipeline model\nmodel = make_pipeline(PolynomialFeatures(degree), LinearRegression())\n# Fit the model\nmodel.fit(common_capacity.reshape(-1, 1), pOCV)\n# Predict the pOCV\npOCV_pred = model.predict(common_capacity.reshape(-1, 1))\n# Calculate the R-squared value\nr2 = r2_score(pOCV, pOCV_pred)\n# Print the R-squared value\nprint('R-squared:', r2)\n\n# Display the polynomial coefficients\nprint('Polynomial Coefficients:', model.named_steps['linearregression'].coef_)\n\n# Calculate residuals\nresiduals = pOCV - pOCV_pred\n# Plot residuals\nplt.figure(figsize=(10, 6))\nplt.scatter(common_capacity, residuals, color='blue', s=50, alpha=.005)\nplt.hlines(y=0, xmin=np.min(common_capacity), xmax=np.max(common_capacity), color='black')\nplt.ylabel('Residuals')\nplt.xlabel('Common Capacity')\nplt.title('Residuals vs Common Capacity')\nplt.show()",
      "outputs": []
    },
    {
      "id": "1c37d02c-6af9-4561-95e7-31394d11bf48",
      "cell_type": "code",
      "metadata": {
        "jupyter": {
          "outputs_hidden": false,
          "source_hidden": false
        },
        "noteable": {
          "cell_type": "code"
        }
      },
      "execution_count": null,
      "source": "",
      "outputs": []
    }
  ]
}